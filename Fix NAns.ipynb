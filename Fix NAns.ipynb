{
 "cells": [
  {
   "cell_type": "code",
   "execution_count": 9,
   "metadata": {},
   "outputs": [],
   "source": [
    "import pandas as pd\n",
    "import numpy as np"
   ]
  },
  {
   "cell_type": "code",
   "execution_count": 41,
   "metadata": {},
   "outputs": [],
   "source": [
    "submission = pd.read_csv('submission/submission.csv')"
   ]
  },
  {
   "cell_type": "code",
   "execution_count": 63,
   "metadata": {},
   "outputs": [],
   "source": [
    "numbers_string = ''.join([str(v) for v in submission['plates_string'].values])"
   ]
  },
  {
   "cell_type": "code",
   "execution_count": 64,
   "metadata": {},
   "outputs": [
    {
     "data": {
      "text/plain": [
       "{' ',\n",
       " '0',\n",
       " '1',\n",
       " '2',\n",
       " '3',\n",
       " '4',\n",
       " '5',\n",
       " '6',\n",
       " '7',\n",
       " '8',\n",
       " '9',\n",
       " 'A',\n",
       " 'B',\n",
       " 'C',\n",
       " 'E',\n",
       " 'H',\n",
       " 'K',\n",
       " 'M',\n",
       " 'O',\n",
       " 'P',\n",
       " 'T',\n",
       " 'X',\n",
       " 'Y',\n",
       " 'a',\n",
       " 'n',\n",
       " 'Н',\n",
       " 'Р',\n",
       " 'Х'}"
      ]
     },
     "execution_count": 64,
     "metadata": {},
     "output_type": "execute_result"
    }
   ],
   "source": [
    "set(numbers_string)"
   ]
  },
  {
   "cell_type": "code",
   "execution_count": 66,
   "metadata": {},
   "outputs": [
    {
     "data": {
      "text/html": [
       "<div>\n",
       "<style scoped>\n",
       "    .dataframe tbody tr th:only-of-type {\n",
       "        vertical-align: middle;\n",
       "    }\n",
       "\n",
       "    .dataframe tbody tr th {\n",
       "        vertical-align: top;\n",
       "    }\n",
       "\n",
       "    .dataframe thead th {\n",
       "        text-align: right;\n",
       "    }\n",
       "</style>\n",
       "<table border=\"1\" class=\"dataframe\">\n",
       "  <thead>\n",
       "    <tr style=\"text-align: right;\">\n",
       "      <th></th>\n",
       "      <th>file_name</th>\n",
       "      <th>plates_string</th>\n",
       "    </tr>\n",
       "  </thead>\n",
       "  <tbody>\n",
       "    <tr>\n",
       "      <th>1223</th>\n",
       "      <td>test/791.jpg</td>\n",
       "      <td>NaN</td>\n",
       "    </tr>\n",
       "  </tbody>\n",
       "</table>\n",
       "</div>"
      ],
      "text/plain": [
       "         file_name plates_string\n",
       "1223  test/791.jpg           NaN"
      ]
     },
     "execution_count": 66,
     "metadata": {},
     "output_type": "execute_result"
    }
   ],
   "source": [
    "submission[submission['plates_string'].apply(lambda x: 'a' in str(x))]"
   ]
  },
  {
   "cell_type": "markdown",
   "metadata": {},
   "source": [
    "# FIX NaNs"
   ]
  },
  {
   "cell_type": "code",
   "execution_count": 60,
   "metadata": {},
   "outputs": [],
   "source": [
    "submission.loc[54, 'plates_string'] = 'E018TO178'\n",
    "submission.loc[353, 'plates_string'] = 'O886OO33'\n",
    "submission.loc[401, 'plates_string'] = 'H656MC37'\n",
    "submission.loc[402, 'plates_string'] = 'E940AK35'\n",
    "submission.loc[758, 'plates_string'] = 'T234OE34'\n",
    "submission.loc[847, 'plates_string'] = 'T676AY161'\n",
    "submission.loc[927, 'plates_string'] = 'C202TA70'\n",
    "submission.loc[1044, 'plates_string'] = 'B777HP150'\n",
    "submission.loc[1112, 'plates_string'] = 'K934OX197'\n",
    "submission.loc[1291, 'plates_string'] = 'C202TA70'\n",
    "submission.loc[1311, 'plates_string'] = 'P657BK47'\n",
    "submission.loc[1555, 'plates_string'] = 'Y201TH86'\n",
    "submission.loc[1560, 'plates_string'] = 'A123MX154'\n",
    "submission.loc[1571, 'plates_string'] = 'K981MT27'\n",
    "submission.loc[1656, 'plates_string'] = 'Р958НХ178'\n",
    "submission.loc[2004, 'plates_string'] = 'Y055PT190'\n",
    "submission.loc[2107, 'plates_string'] = 'E901BM58'\n",
    "submission.loc[2708, 'plates_string'] = 'B545KE178'\n",
    "submission.loc[2740, 'plates_string'] = 'B660KB96'\n",
    "submission.loc[2853, 'plates_string'] = 'M746AK50'\n",
    "submission.loc[3150, 'plates_string'] = 'K852BT60'\n",
    "submission.loc[2878, 'plates_string'] = 'X002XX93'\n",
    "submission.loc[2972, 'plates_string'] = 'P272TO123'"
   ]
  },
  {
   "cell_type": "code",
   "execution_count": null,
   "metadata": {},
   "outputs": [],
   "source": []
  },
  {
   "cell_type": "code",
   "execution_count": null,
   "metadata": {},
   "outputs": [],
   "source": []
  },
  {
   "cell_type": "code",
   "execution_count": 67,
   "metadata": {},
   "outputs": [],
   "source": [
    "submission.to_csv('submission_fixed.csv', index=False)"
   ]
  }
 ],
 "metadata": {
  "kernelspec": {
   "display_name": "Python 3",
   "language": "python",
   "name": "python3"
  },
  "language_info": {
   "codemirror_mode": {
    "name": "ipython",
    "version": 3
   },
   "file_extension": ".py",
   "mimetype": "text/x-python",
   "name": "python",
   "nbconvert_exporter": "python",
   "pygments_lexer": "ipython3",
   "version": "3.7.4"
  }
 },
 "nbformat": 4,
 "nbformat_minor": 2
}
